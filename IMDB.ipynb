{
 "cells": [
  {
   "cell_type": "code",
   "execution_count": 2,
   "id": "14c12732",
   "metadata": {},
   "outputs": [],
   "source": [
    "import numpy as np\n",
    "import pandas as pd\n",
    "import matplotlib.pyplot as plt"
   ]
  },
  {
   "cell_type": "code",
   "execution_count": 3,
   "id": "fd33a0cd",
   "metadata": {},
   "outputs": [
    {
     "data": {
      "text/html": [
       "<div>\n",
       "<style scoped>\n",
       "    .dataframe tbody tr th:only-of-type {\n",
       "        vertical-align: middle;\n",
       "    }\n",
       "\n",
       "    .dataframe tbody tr th {\n",
       "        vertical-align: top;\n",
       "    }\n",
       "\n",
       "    .dataframe thead th {\n",
       "        text-align: right;\n",
       "    }\n",
       "</style>\n",
       "<table border=\"1\" class=\"dataframe\">\n",
       "  <thead>\n",
       "    <tr style=\"text-align: right;\">\n",
       "      <th></th>\n",
       "      <th>Title</th>\n",
       "      <th>Genre</th>\n",
       "      <th>Premiere</th>\n",
       "      <th>Runtime</th>\n",
       "      <th>IMDB Score</th>\n",
       "      <th>Language</th>\n",
       "    </tr>\n",
       "  </thead>\n",
       "  <tbody>\n",
       "    <tr>\n",
       "      <th>0</th>\n",
       "      <td>Enter the Anime</td>\n",
       "      <td>Documentary</td>\n",
       "      <td>August 5, 2019</td>\n",
       "      <td>58</td>\n",
       "      <td>2.5</td>\n",
       "      <td>English/Japanese</td>\n",
       "    </tr>\n",
       "    <tr>\n",
       "      <th>1</th>\n",
       "      <td>Dark Forces</td>\n",
       "      <td>Thriller</td>\n",
       "      <td>August 21, 2020</td>\n",
       "      <td>81</td>\n",
       "      <td>2.6</td>\n",
       "      <td>Spanish</td>\n",
       "    </tr>\n",
       "    <tr>\n",
       "      <th>2</th>\n",
       "      <td>The App</td>\n",
       "      <td>Science fiction/Drama</td>\n",
       "      <td>December 26, 2019</td>\n",
       "      <td>79</td>\n",
       "      <td>2.6</td>\n",
       "      <td>Italian</td>\n",
       "    </tr>\n",
       "    <tr>\n",
       "      <th>3</th>\n",
       "      <td>The Open House</td>\n",
       "      <td>Horror thriller</td>\n",
       "      <td>January 19, 2018</td>\n",
       "      <td>94</td>\n",
       "      <td>3.2</td>\n",
       "      <td>English</td>\n",
       "    </tr>\n",
       "    <tr>\n",
       "      <th>4</th>\n",
       "      <td>Kaali Khuhi</td>\n",
       "      <td>Mystery</td>\n",
       "      <td>October 30, 2020</td>\n",
       "      <td>90</td>\n",
       "      <td>3.4</td>\n",
       "      <td>Hindi</td>\n",
       "    </tr>\n",
       "    <tr>\n",
       "      <th>...</th>\n",
       "      <td>...</td>\n",
       "      <td>...</td>\n",
       "      <td>...</td>\n",
       "      <td>...</td>\n",
       "      <td>...</td>\n",
       "      <td>...</td>\n",
       "    </tr>\n",
       "    <tr>\n",
       "      <th>579</th>\n",
       "      <td>Taylor Swift: Reputation Stadium Tour</td>\n",
       "      <td>Concert Film</td>\n",
       "      <td>December 31, 2018</td>\n",
       "      <td>125</td>\n",
       "      <td>8.4</td>\n",
       "      <td>English</td>\n",
       "    </tr>\n",
       "    <tr>\n",
       "      <th>580</th>\n",
       "      <td>Winter on Fire: Ukraine's Fight for Freedom</td>\n",
       "      <td>Documentary</td>\n",
       "      <td>October 9, 2015</td>\n",
       "      <td>91</td>\n",
       "      <td>8.4</td>\n",
       "      <td>English/Ukranian/Russian</td>\n",
       "    </tr>\n",
       "    <tr>\n",
       "      <th>581</th>\n",
       "      <td>Springsteen on Broadway</td>\n",
       "      <td>One-man show</td>\n",
       "      <td>December 16, 2018</td>\n",
       "      <td>153</td>\n",
       "      <td>8.5</td>\n",
       "      <td>English</td>\n",
       "    </tr>\n",
       "    <tr>\n",
       "      <th>582</th>\n",
       "      <td>Emicida: AmarElo - It's All For Yesterday</td>\n",
       "      <td>Documentary</td>\n",
       "      <td>December 8, 2020</td>\n",
       "      <td>89</td>\n",
       "      <td>8.6</td>\n",
       "      <td>Portuguese</td>\n",
       "    </tr>\n",
       "    <tr>\n",
       "      <th>583</th>\n",
       "      <td>David Attenborough: A Life on Our Planet</td>\n",
       "      <td>Documentary</td>\n",
       "      <td>October 4, 2020</td>\n",
       "      <td>83</td>\n",
       "      <td>9.0</td>\n",
       "      <td>English</td>\n",
       "    </tr>\n",
       "  </tbody>\n",
       "</table>\n",
       "<p>584 rows × 6 columns</p>\n",
       "</div>"
      ],
      "text/plain": [
       "                                           Title                  Genre  \\\n",
       "0                                Enter the Anime            Documentary   \n",
       "1                                    Dark Forces               Thriller   \n",
       "2                                        The App  Science fiction/Drama   \n",
       "3                                 The Open House        Horror thriller   \n",
       "4                                    Kaali Khuhi                Mystery   \n",
       "..                                           ...                    ...   \n",
       "579        Taylor Swift: Reputation Stadium Tour           Concert Film   \n",
       "580  Winter on Fire: Ukraine's Fight for Freedom            Documentary   \n",
       "581                      Springsteen on Broadway           One-man show   \n",
       "582    Emicida: AmarElo - It's All For Yesterday            Documentary   \n",
       "583     David Attenborough: A Life on Our Planet            Documentary   \n",
       "\n",
       "              Premiere  Runtime  IMDB Score                  Language  \n",
       "0       August 5, 2019       58         2.5          English/Japanese  \n",
       "1      August 21, 2020       81         2.6                   Spanish  \n",
       "2    December 26, 2019       79         2.6                   Italian  \n",
       "3     January 19, 2018       94         3.2                   English  \n",
       "4     October 30, 2020       90         3.4                     Hindi  \n",
       "..                 ...      ...         ...                       ...  \n",
       "579  December 31, 2018      125         8.4                   English  \n",
       "580    October 9, 2015       91         8.4  English/Ukranian/Russian  \n",
       "581  December 16, 2018      153         8.5                   English  \n",
       "582   December 8, 2020       89         8.6                Portuguese  \n",
       "583    October 4, 2020       83         9.0                   English  \n",
       "\n",
       "[584 rows x 6 columns]"
      ]
     },
     "execution_count": 3,
     "metadata": {},
     "output_type": "execute_result"
    }
   ],
   "source": [
    "df = pd.read_csv(\"C:\\\\Users\\\\Alvin Roy\\\\Downloads\\\\NetflixOriginals.csv\", encoding='latin-1')\n",
    "df"
   ]
  },
  {
   "cell_type": "code",
   "execution_count": 4,
   "id": "38bdad9a",
   "metadata": {},
   "outputs": [
    {
     "data": {
      "text/plain": [
       "<bound method DataFrame.info of                                            Title                  Genre  \\\n",
       "0                                Enter the Anime            Documentary   \n",
       "1                                    Dark Forces               Thriller   \n",
       "2                                        The App  Science fiction/Drama   \n",
       "3                                 The Open House        Horror thriller   \n",
       "4                                    Kaali Khuhi                Mystery   \n",
       "..                                           ...                    ...   \n",
       "579        Taylor Swift: Reputation Stadium Tour           Concert Film   \n",
       "580  Winter on Fire: Ukraine's Fight for Freedom            Documentary   \n",
       "581                      Springsteen on Broadway           One-man show   \n",
       "582    Emicida: AmarElo - It's All For Yesterday            Documentary   \n",
       "583     David Attenborough: A Life on Our Planet            Documentary   \n",
       "\n",
       "              Premiere  Runtime  IMDB Score                  Language  \n",
       "0       August 5, 2019       58         2.5          English/Japanese  \n",
       "1      August 21, 2020       81         2.6                   Spanish  \n",
       "2    December 26, 2019       79         2.6                   Italian  \n",
       "3     January 19, 2018       94         3.2                   English  \n",
       "4     October 30, 2020       90         3.4                     Hindi  \n",
       "..                 ...      ...         ...                       ...  \n",
       "579  December 31, 2018      125         8.4                   English  \n",
       "580    October 9, 2015       91         8.4  English/Ukranian/Russian  \n",
       "581  December 16, 2018      153         8.5                   English  \n",
       "582   December 8, 2020       89         8.6                Portuguese  \n",
       "583    October 4, 2020       83         9.0                   English  \n",
       "\n",
       "[584 rows x 6 columns]>"
      ]
     },
     "execution_count": 4,
     "metadata": {},
     "output_type": "execute_result"
    }
   ],
   "source": [
    "df.info"
   ]
  },
  {
   "cell_type": "code",
   "execution_count": 5,
   "id": "4806b50a",
   "metadata": {},
   "outputs": [
    {
     "data": {
      "text/plain": [
       "<bound method NDFrame.describe of                                            Title                  Genre  \\\n",
       "0                                Enter the Anime            Documentary   \n",
       "1                                    Dark Forces               Thriller   \n",
       "2                                        The App  Science fiction/Drama   \n",
       "3                                 The Open House        Horror thriller   \n",
       "4                                    Kaali Khuhi                Mystery   \n",
       "..                                           ...                    ...   \n",
       "579        Taylor Swift: Reputation Stadium Tour           Concert Film   \n",
       "580  Winter on Fire: Ukraine's Fight for Freedom            Documentary   \n",
       "581                      Springsteen on Broadway           One-man show   \n",
       "582    Emicida: AmarElo - It's All For Yesterday            Documentary   \n",
       "583     David Attenborough: A Life on Our Planet            Documentary   \n",
       "\n",
       "              Premiere  Runtime  IMDB Score                  Language  \n",
       "0       August 5, 2019       58         2.5          English/Japanese  \n",
       "1      August 21, 2020       81         2.6                   Spanish  \n",
       "2    December 26, 2019       79         2.6                   Italian  \n",
       "3     January 19, 2018       94         3.2                   English  \n",
       "4     October 30, 2020       90         3.4                     Hindi  \n",
       "..                 ...      ...         ...                       ...  \n",
       "579  December 31, 2018      125         8.4                   English  \n",
       "580    October 9, 2015       91         8.4  English/Ukranian/Russian  \n",
       "581  December 16, 2018      153         8.5                   English  \n",
       "582   December 8, 2020       89         8.6                Portuguese  \n",
       "583    October 4, 2020       83         9.0                   English  \n",
       "\n",
       "[584 rows x 6 columns]>"
      ]
     },
     "execution_count": 5,
     "metadata": {},
     "output_type": "execute_result"
    }
   ],
   "source": [
    "df.describe"
   ]
  },
  {
   "cell_type": "code",
   "execution_count": 6,
   "id": "673e072e",
   "metadata": {},
   "outputs": [
    {
     "data": {
      "text/plain": [
       "Title         0\n",
       "Genre         0\n",
       "Premiere      0\n",
       "Runtime       0\n",
       "IMDB Score    0\n",
       "Language      0\n",
       "dtype: int64"
      ]
     },
     "execution_count": 6,
     "metadata": {},
     "output_type": "execute_result"
    }
   ],
   "source": [
    "df.isnull().sum()"
   ]
  },
  {
   "cell_type": "code",
   "execution_count": 7,
   "id": "5af10970",
   "metadata": {},
   "outputs": [
    {
     "data": {
      "text/plain": [
       "Index(['Title', 'Genre', 'Premiere', 'Runtime', 'IMDB Score', 'Language'], dtype='object')"
      ]
     },
     "execution_count": 7,
     "metadata": {},
     "output_type": "execute_result"
    }
   ],
   "source": [
    "df.columns"
   ]
  },
  {
   "cell_type": "code",
   "execution_count": 23,
   "id": "d7f22c49",
   "metadata": {},
   "outputs": [
    {
     "data": {
      "text/plain": [
       "Language\n",
       "English       401\n",
       "Hindi          33\n",
       "Spanish        31\n",
       "French         20\n",
       "Italian        14\n",
       "Portuguese     12\n",
       "Indonesian      9\n",
       "Korean          6\n",
       "Japanese        6\n",
       "German          5\n",
       "Name: count, dtype: int64"
      ]
     },
     "execution_count": 23,
     "metadata": {},
     "output_type": "execute_result"
    }
   ],
   "source": [
    "language=df['Language'].value_counts().sort_values(ascending=False)\n",
    "language=language[:10]\n",
    "language"
   ]
  },
  {
   "cell_type": "code",
   "execution_count": 36,
   "id": "68236f79",
   "metadata": {},
   "outputs": [
    {
     "data": {
      "text/plain": [
       "Genre\n",
       "Documentary        159\n",
       "Drama               77\n",
       "Comedy              49\n",
       "Romantic comedy     39\n",
       "Thriller            33\n",
       "Comedy-drama        14\n",
       "Crime drama         11\n",
       "Biopic               9\n",
       "Horror               9\n",
       "Action               7\n",
       "Name: count, dtype: int64"
      ]
     },
     "execution_count": 36,
     "metadata": {},
     "output_type": "execute_result"
    }
   ],
   "source": [
    "Genre=df[\"Genre\"].value_counts().sort_values(ascending=False)\n",
    "Genre=Genre[:10]\n",
    "Genre"
   ]
  },
  {
   "cell_type": "code",
   "execution_count": 37,
   "id": "2a0013dd",
   "metadata": {},
   "outputs": [
    {
     "data": {
      "text/plain": [
       "Text(0.5, 1.0, 'Language vs Genre')"
      ]
     },
     "execution_count": 37,
     "metadata": {},
     "output_type": "execute_result"
    },
    {
     "data": {
      "image/png": "[encoded data removed]",
      "text/plain": [
       "<Figure size 640x480 with 1 Axes>"
      ]
     },
     "metadata": {},
     "output_type": "display_data"
    }
   ],
   "source": [
    "plt.plot(language,Genre)\n",
    "plt.xlabel(\"Langauge Count\")\n",
    "plt.ylabel(\"Genre Count\")\n",
    "plt.title(\"Language vs Genre\")"
   ]
  }
 ],
 "metadata": {
  "kernelspec": {
   "display_name": "Python 3 (ipykernel)",
   "language": "python",
   "name": "python3"
  },
  "language_info": {
   "codemirror_mode": {
    "name": "ipython",
    "version": 3
   },
   "file_extension": ".py",
   "mimetype": "text/x-python",
   "name": "python",
   "nbconvert_exporter": "python",
   "pygments_lexer": "ipython3",
   "version": "3.11.5"
  }
 },
 "nbformat": 4,
 "nbformat_minor": 5
}
